{
  "nbformat": 4,
  "nbformat_minor": 0,
  "metadata": {
    "colab": {
      "provenance": []
    },
    "kernelspec": {
      "name": "python3",
      "display_name": "Python 3"
    },
    "language_info": {
      "name": "python"
    }
  },
  "cells": [
    {
      "cell_type": "markdown",
      "source": [
        "### **Generate Random Ratings Data**\n",
        "\n",
        "This code generates a random **user-movie ratings matrix** for testing the movie recommendation system. It simulates a scenario where multiple users rate various movies. The ratings range from 1 to 5, with 0 representing unrated movies. The matrix is saved as a **CSV file** (`ratings.csv`), which will later be used by the C++ program for prediction and recommendation.\n"
      ],
      "metadata": {
        "id": "hfPAfF2N8SOb"
      }
    },
    {
      "cell_type": "code",
      "source": [
        "import pandas as pd\n",
        "import numpy as np\n",
        "\n",
        "#number of users and movies\n",
        "num_users = 20   #can be changed accordingly\n",
        "num_movies = 15  #can be changed accordingly\n",
        "\n",
        "# Generate a random matrix with ratings (1 to 5) and 0 for unrated movies\n",
        "np.random.seed(42)\n",
        "ratings = np.random.choice([0, 1, 2, 3, 4, 5], size=(num_users, num_movies), p=[0.4, 0.1, 0.1, 0.1, 0.1, 0.2])\n",
        "\n",
        "df = pd.DataFrame(ratings, columns=[f\"Movie{i+1}\" for i in range(num_movies)])\n",
        "\n",
        "df.to_csv(\"ratings.csv\", index=False)\n",
        "print(\"Generated 'ratings.csv' with random user-movie ratings!\")"
      ],
      "metadata": {
        "colab": {
          "base_uri": "https://localhost:8080/"
        },
        "id": "vHsq_VUq2hxT",
        "outputId": "ea08e5b0-c8f7-4b7b-fa64-063c40dc9f43"
      },
      "execution_count": 4,
      "outputs": [
        {
          "output_type": "stream",
          "name": "stdout",
          "text": [
            "Generated 'ratings.csv' with random user-movie ratings!\n"
          ]
        }
      ]
    },
    {
      "cell_type": "markdown",
      "source": [
        "\n",
        "#### **Functions in the C++ Code:**\n",
        "\n",
        "1. **`loadRatingsMatrix()`**:\n",
        "   - This function loads the user-movie ratings matrix from a **CSV file** (`ratings.csv`). It skips the header and handles missing values (0 for unrated movies).\n",
        "\n",
        "2. **`calculateCosineSimilarity()`**:\n",
        "   - This function computes the **cosine similarity** between two users based on their movie ratings. It only considers movies that both users have rated.\n",
        "\n",
        "3. **`calculateAllSimilarities()`**:\n",
        "   - This function calculates the cosine similarities between the target user and all other users.\n",
        "\n",
        "4. **`predictRatings()`**:\n",
        "   - This function predicts ratings for unrated movies for the target user by calculating a weighted average of ratings from similar users.\n",
        "\n",
        "5. **`recommendTopNMovies()`**:\n",
        "   - This function recommends the **top N movies** based on predicted ratings, sorted in descending order.\n",
        "\n",
        "6. **`calculateRMSE()`**:\n",
        "   - This function calculates the **Root Mean Squared Error (RMSE)** to evaluate the accuracy of the predicted ratings compared to the actual ratings.\n",
        "\n",
        "7. **`main()`**:\n",
        "   - The program prompts the user for input:\n",
        "     1. The target user index for whom movie recommendations are needed.\n",
        "     2. The number of top recommended movies to display.\n",
        "   - It then calculates the predicted ratings, recommends the top N movies, and displays the RMSE for the given user.\n"
      ],
      "metadata": {
        "id": "OkDymKHe8hEa"
      }
    },
    {
      "cell_type": "code",
      "source": [
        "%%writefile movie_recommender.cpp\n",
        "#include <iostream>\n",
        "#include <vector>\n",
        "#include <fstream>\n",
        "#include <sstream>\n",
        "#include <cmath>\n",
        "#include <algorithm>\n",
        "\n",
        "using namespace std;\n",
        "\n",
        "// Function to load the ratings matrix from a CSV file\n",
        "vector<vector<int>> loadRatingsMatrix(const string &filename) {\n",
        "    ifstream file(filename);\n",
        "    vector<vector<int>> matrix;\n",
        "    string line;\n",
        "\n",
        "    bool skipHeader=true;\n",
        "    while(getline(file, line)){\n",
        "        if(skipHeader){\n",
        "            skipHeader=false;\n",
        "            continue; //Skip the header row\n",
        "        }\n",
        "        vector<int>row;\n",
        "        stringstream ss(line);\n",
        "        string value;\n",
        "\n",
        "        while(getline(ss, value, ',')){\n",
        "            row.push_back(value.empty()?0:stoi(value)); //for empty values\n",
        "        }\n",
        "        matrix.push_back(row);\n",
        "    }\n",
        "    file.close();\n",
        "    return matrix;\n",
        "}\n",
        "\n",
        "// Function to compute cosine similarity between two users\n",
        "double calculateCosineSimilarity(const vector<int> &user1, const vector<int> &user2) {\n",
        "    double dotProduct = 0.0, norm1 = 0.0, norm2 = 0.0;\n",
        "\n",
        "    for (size_t i = 0; i < user1.size(); ++i) {\n",
        "        if (user1[i] != 0 && user2[i] != 0) { // Only consider rated movies\n",
        "            dotProduct += user1[i] * user2[i];\n",
        "            norm1 += user1[i] * user1[i];\n",
        "            norm2 += user2[i] * user2[i];\n",
        "        }\n",
        "    }\n",
        "\n",
        "    if (norm1 == 0 || norm2 == 0) return 0; // Avoid division by zero\n",
        "    return dotProduct / (sqrt(norm1) * sqrt(norm2));\n",
        "}\n",
        "\n",
        "// Function to calculate all user-user similarities\n",
        "vector<double> calculateAllSimilarities(const vector<vector<int>> &matrix, int targetUser) {\n",
        "    vector<double> similarities(matrix.size(), 0.0);\n",
        "\n",
        "    for (size_t i = 0; i < matrix.size(); ++i) {\n",
        "        if (i != targetUser) {\n",
        "            similarities[i] = calculateCosineSimilarity(matrix[targetUser], matrix[i]);\n",
        "        }\n",
        "    }\n",
        "    return similarities;\n",
        "}\n",
        "\n",
        "// Function to predict ratings for a target user\n",
        "vector<double> predictRatings(const vector<vector<int>> &matrix, int targetUser) {\n",
        "    int numMovies = matrix[0].size();\n",
        "    vector<double> predictedRatings(numMovies, 0.0);\n",
        "    vector<double> similarities = calculateAllSimilarities(matrix, targetUser);\n",
        "\n",
        "    for (int movie = 0; movie < numMovies; ++movie) {\n",
        "        if (matrix[targetUser][movie] == 0) { // Predict only for unrated movies\n",
        "            double numerator = 0.0, denominator = 0.0;\n",
        "\n",
        "            for (size_t user = 0; user < matrix.size(); ++user) {\n",
        "                if (matrix[user][movie] != 0 && similarities[user] > 0) {\n",
        "                    numerator += similarities[user] * matrix[user][movie];\n",
        "                    denominator += fabs(similarities[user]);\n",
        "                }\n",
        "            }\n",
        "\n",
        "            predictedRatings[movie] = (denominator != 0) ? numerator / denominator : 0;\n",
        "        }\n",
        "    }\n",
        "\n",
        "    return predictedRatings;\n",
        "}\n",
        "\n",
        "// Function to recommend top N movies for a user\n",
        "void recommendTopNMovies(const vector<double> &predictions, int N) {\n",
        "    vector<pair<double, int>> movies;\n",
        "\n",
        "    for (int i = 0; i < predictions.size(); ++i) {\n",
        "        if (predictions[i] > 0) {\n",
        "            movies.push_back({predictions[i], i + 1}); // Movie index starts at 1\n",
        "        }\n",
        "    }\n",
        "\n",
        "    // Sort movies by predicted ratings in descending order\n",
        "    sort(movies.rbegin(), movies.rend());\n",
        "\n",
        "    // Print top N movies\n",
        "    cout << \"Top \" << N << \" Recommended Movies:\\n\";\n",
        "    for (int i = 0; i < N && i < movies.size(); ++i) {\n",
        "        cout << \"Movie \" << movies[i].second << \" - Predicted Rating: \" << movies[i].first << endl;\n",
        "    }\n",
        "}\n",
        "\n",
        "// Function to calculate RMSE (Root Mean Square Error)\n",
        "double calculateRMSE(const vector<vector<int>> &matrix, const vector<double> &predictions, int targetUser) {\n",
        "    double error = 0.0;\n",
        "    int count = 0;\n",
        "\n",
        "    for (size_t i = 0; i < predictions.size(); ++i) {\n",
        "        if (matrix[targetUser][i] != 0) { // Compare only for rated movies\n",
        "            double diff = predictions[i] - matrix[targetUser][i];\n",
        "            error += diff * diff;\n",
        "            count++;\n",
        "        }\n",
        "    }\n",
        "\n",
        "    return(count>0)?sqrt(error/count):0.0;\n",
        "}\n",
        "\n",
        "int main() {\n",
        "    string filename=\"ratings.csv\"; // CSV file with user-movie ratings\n",
        "\n",
        "    // User input for target user and number of recommended movies\n",
        "    int targetUser, top, temp;\n",
        "\n",
        "    cout << \"Enter the user index for which you want to recommend movies: \";\n",
        "    cin >> temp;\n",
        "    targetUser=temp-1;\n",
        "\n",
        "    cout<<\"Enter the number of top recommended movies: \";\n",
        "    cin>>top;\n",
        "\n",
        "    // Load the ratings matrix\n",
        "    vector<vector<int>> ratingsMatrix=loadRatingsMatrix(filename);\n",
        "\n",
        "    // Predict ratings for the target user\n",
        "    vector<double> predictedRatings = predictRatings(ratingsMatrix, targetUser);\n",
        "\n",
        "    // Print predicted ratings\n",
        "    cout<<\"Predicted Ratings for unrated movies for User \"<<targetUser+1<<\":\\n\";\n",
        "    for(int i=0; i<predictedRatings.size(); i++) {\n",
        "        if(ratingsMatrix[targetUser][i]==0){ // Show only unrated movies\n",
        "            cout<<\"Movie \"<<i+1<<\": \"<<predictedRatings[i]<<endl;\n",
        "        }\n",
        "    }\n",
        "\n",
        "    // Recommend top n movies\n",
        "    recommendTopNMovies(predictedRatings, top);\n",
        "\n",
        "    // Calculate and print RMSE\n",
        "    double rmse=calculateRMSE(ratingsMatrix, predictedRatings, targetUser);\n",
        "    cout<<\"\\nPerformance Report:\\n\";\n",
        "    cout<<\"RMSE for User \"<<targetUser+1<<\": \"<<rmse<<endl;\n",
        "\n",
        "    return 0;\n",
        "}\n"
      ],
      "metadata": {
        "colab": {
          "base_uri": "https://localhost:8080/"
        },
        "id": "CbyDqVIb2h2n",
        "outputId": "a42a845b-c398-4e71-8330-78e8eb8783c3"
      },
      "execution_count": 20,
      "outputs": [
        {
          "output_type": "stream",
          "name": "stdout",
          "text": [
            "Overwriting movie_recommender.cpp\n"
          ]
        }
      ]
    },
    {
      "cell_type": "code",
      "source": [
        "!g++ movie_recommender.cpp -o movie_recommender\n",
        "!./movie_recommender"
      ],
      "metadata": {
        "colab": {
          "base_uri": "https://localhost:8080/"
        },
        "id": "_umLaIW32h4z",
        "outputId": "8e3d105d-73d9-4356-ddd9-71e443453cf6"
      },
      "execution_count": 21,
      "outputs": [
        {
          "output_type": "stream",
          "name": "stdout",
          "text": [
            "Enter the user index for which you want to recommend movies: 10\n",
            "Enter the number of top recommended movies: 2\n",
            "Predicted Ratings for User 10:\n",
            "Movie 1: 3.8522\n",
            "Movie 4: 3.16814\n",
            "Movie 7: 3.31233\n",
            "Movie 9: 3.43923\n",
            "Movie 10: 3.34571\n",
            "Movie 11: 3.82229\n",
            "Movie 14: 3.63333\n",
            "Movie 15: 2.98331\n",
            "Top 2 Recommended Movies:\n",
            "Movie 1 - Predicted Rating: 3.8522\n",
            "Movie 11 - Predicted Rating: 3.82229\n",
            "\n",
            "Performance Report:\n",
            "RMSE for User 10: 3.4641\n"
          ]
        }
      ]
    }
  ]
}